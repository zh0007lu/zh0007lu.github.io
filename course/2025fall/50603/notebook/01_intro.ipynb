{
  "cells": [
    {
      "cell_type": "markdown",
      "metadata": {
        "id": "mOrq_z2zcsyt"
      },
      "source": [
        "# 1: Introduction to Machine Learning"
      ],
      "id": "mOrq_z2zcsyt"
    },
    {
      "cell_type": "code",
      "source": [
        "# Use if you run the notebook on Google colab\n",
        "from google.colab import drive\n",
        "drive.mount('/content/drive/', force_remount=True)"
      ],
      "metadata": {
        "id": "83sN7mvydMT1"
      },
      "id": "83sN7mvydMT1",
      "execution_count": null,
      "outputs": []
    },
    {
      "cell_type": "code",
      "source": [
        "!pip install mglearn"
      ],
      "metadata": {
        "id": "-Y-amirifHRA"
      },
      "id": "-Y-amirifHRA",
      "execution_count": null,
      "outputs": []
    },
    {
      "cell_type": "markdown",
      "metadata": {
        "id": "JDjE1aN7csyw"
      },
      "source": [
        "## Imports"
      ],
      "id": "JDjE1aN7csyw"
    },
    {
      "cell_type": "code",
      "source": [
        "import glob\n",
        "import os\n",
        "import re\n",
        "import sys\n",
        "from collections import Counter, defaultdict\n",
        "# Make sure to change the directory to where your store the folder\n",
        "sys.path.append(\"/content/drive/MyDrive/50603/code\")\n",
        "os.chdir('/content/drive/MyDrive/50603')"
      ],
      "metadata": {
        "id": "r8tEijCi3aEo"
      },
      "id": "r8tEijCi3aEo",
      "execution_count": null,
      "outputs": []
    },
    {
      "cell_type": "code",
      "execution_count": null,
      "metadata": {
        "execution": {
          "iopub.execute_input": "2023-05-21T00:35:11.253266Z",
          "iopub.status.busy": "2023-05-21T00:35:11.252810Z",
          "iopub.status.idle": "2023-05-21T00:35:16.805704Z",
          "shell.execute_reply": "2023-05-21T00:35:16.803459Z",
          "shell.execute_reply.started": "2023-05-21T00:35:11.253230Z"
        },
        "id": "ZfPL7SGpcsyw"
      },
      "outputs": [],
      "source": [
        "import matplotlib.pyplot as plt\n",
        "import numpy as np\n",
        "import pandas as pd\n",
        "\n",
        "import graphviz\n",
        "import IPython\n",
        "import mglearn\n",
        "from IPython.display import HTML, Image, display\n",
        "from plotting_functions import *\n",
        "from sklearn.dummy import DummyClassifier\n",
        "from sklearn.feature_extraction.text import CountVectorizer\n",
        "from sklearn.linear_model import LinearRegression, LogisticRegression\n",
        "from sklearn.model_selection import train_test_split\n",
        "from sklearn.pipeline import Pipeline, make_pipeline\n",
        "from sklearn.tree import DecisionTreeClassifier, DecisionTreeRegressor, export_graphviz\n",
        "from utils import *\n",
        "\n",
        "plt.rcParams[\"font.size\"] = 16\n",
        "pd.set_option(\"display.max_colwidth\", 200)"
      ],
      "id": "ZfPL7SGpcsyw"
    },
    {
      "cell_type": "markdown",
      "metadata": {
        "id": "aEtk_RAXcsyy"
      },
      "source": [
        "<br><br>"
      ],
      "id": "aEtk_RAXcsyy"
    },
    {
      "cell_type": "markdown",
      "metadata": {
        "id": "FSMB_KMfcsyy"
      },
      "source": [
        "## Why machine learning (ML)? [[video](https://www.youtube.com/watch?v=-1hTcS5ZE4w&t=1s)]"
      ],
      "id": "FSMB_KMfcsyy"
    },
    {
      "cell_type": "markdown",
      "metadata": {
        "id": "N0G4ZUidcsyy"
      },
      "source": [
        "Check out [the accompanying video](https://www.youtube.com/watch?v=-1hTcS5ZE4w&t=1s) on this material."
      ],
      "id": "N0G4ZUidcsyy"
    },
    {
      "cell_type": "markdown",
      "metadata": {
        "id": "NatMcjZvcsyy"
      },
      "source": [
        "### Prevalence of ML\n",
        "\n",
        "Let's look at some examples.\n",
        "\n",
        "<!-- <img src=\"/content/drive/MyDrive/additional/img/ml-examples.png\" height=\"1000\" width=\"1000\">\n",
        "![](/content/drive/MyDrive/additional/img/ml-examples.png) -->\n"
      ],
      "id": "NatMcjZvcsyy"
    },
    {
      "cell_type": "code",
      "source": [
        "p = 'img/ml-examples.png'\n",
        "display(Image(filename=p, width=800))"
      ],
      "metadata": {
        "id": "p8M8Mrmu248Q"
      },
      "id": "p8M8Mrmu248Q",
      "execution_count": null,
      "outputs": []
    },
    {
      "cell_type": "markdown",
      "metadata": {
        "id": "hICLnW8dcsyz"
      },
      "source": [
        "- Image sources\n",
        "    - [Voice assistants](https://geeksfl.com/blog/best-voice-assistant/)\n",
        "    - [Google News](https://news.google.com)    \n",
        "    - [Recommendation systems](https://en.wikipedia.org/wiki/Recommender_system)\n",
        "    - [Face Recognition source](https://startupleague.online/blog/3dss-tech-facial-recognition-technology/)\n",
        "    - [Auto-completion](https://9to5google.com/2020/08/10/android-11-autofill-keyboard/)\n",
        "    - [Stock market prediction](https://hbr.org/2019/12/what-machine-learning-will-mean-for-asset-managers)    \n",
        "    - [Character recognition](https://en.wikipedia.org/wiki/Handwriting_recognition)    \n",
        "    - [AlphaGo](https://deepmind.com/alphago-china)\n",
        "    - [Self-driving cars](https://mc.ai/artificial-intelligence-in-self-driving-cars%E2%80%8A-%E2%80%8Ahow-far-have-we-gotten/)\n",
        "    - [Drug discovery](https://www.nature.com/articles/d41586-018-05267-x)\n",
        "    - [Cancer detection](https://venturebeat.com/2018/10/12/google-ai-claims-99-accuracy-in-metastatic-breast-cancer-detection/)"
      ],
      "id": "hICLnW8dcsyz"
    },
    {
      "cell_type": "markdown",
      "metadata": {
        "id": "VTdHFVYkcsyz"
      },
      "source": [
        "### Saving time and scaling products\n",
        "\n",
        "- Imagine writing a program for **spam identification**, i.e., whether an email is spam or non-spam.\n",
        "- *Traditional programming*\n",
        "    - Come up with **rules** using human understanding of spam messages.\n",
        "    - Time consuming and hard to come up with robust set of rules.\n",
        "- *Machine learning*\n",
        "    - Collect large amount of **data of spam and non-spam** emails and let the machine learning algorithm figure out rules.\n",
        "- With machine learning, you're likely to\n",
        "    - **Save time**\n",
        "    - Customize and **scale** products"
      ],
      "id": "VTdHFVYkcsyz"
    },
    {
      "cell_type": "markdown",
      "metadata": {
        "id": "bqPK8j1-csyz"
      },
      "source": [
        "### (Supervised) machine learning: popular definition\n",
        "<blockquote>\n",
        "A field of study that gives computers the ability to learn without being explicitly programmed. <br> -- Arthur Samuel (1959)\n",
        "</blockquote>\n",
        "\n",
        "ML is a different way to think about problem solving.\n",
        "\n",
        "<!-- ![](img/traditional-programming-vs-ML.png)\n",
        "<img src=\"img/traditional-programming-vs-ML.png\" height=\"700\" width=\"700\">  -->"
      ],
      "id": "bqPK8j1-csyz"
    },
    {
      "cell_type": "code",
      "source": [
        "p = 'img/traditional-programming-vs-ML.png'\n",
        "display(Image(filename=p, width=800))"
      ],
      "metadata": {
        "id": "Rml7biMAgA55"
      },
      "id": "Rml7biMAgA55",
      "execution_count": null,
      "outputs": []
    },
    {
      "cell_type": "markdown",
      "metadata": {
        "id": "3-PWeUgZcsy0"
      },
      "source": [
        "<br><br>"
      ],
      "id": "3-PWeUgZcsy0"
    },
    {
      "cell_type": "markdown",
      "metadata": {
        "id": "Y65KlgXycsy0"
      },
      "source": [
        "## Supervised machine learning"
      ],
      "id": "Y65KlgXycsy0"
    },
    {
      "cell_type": "markdown",
      "metadata": {
        "id": "8r-ORgyNcsy0"
      },
      "source": [
        "### Types of machine learning\n",
        "\n",
        "Here are some typical learning problems.\n",
        "\n",
        "- Supervised learning ([Gmail spam filtering](https://support.google.com/a/answer/2368132?hl=en))\n",
        "    - Training a model from input data and its corresponding targets to predict targets for new examples.     \n",
        "- Unsupervised learning ([Google News](https://news.google.com/))\n",
        "    - Training a model to find patterns in a dataset, typically an unlabeled dataset.\n",
        "- Reinforcement learning ([AlphaGo](https://deepmind.com/research/case-studies/alphago-the-story-so-far))\n",
        "    - A family of algorithms for finding suitable actions to take in a given situation in order to maximize a reward."
      ],
      "id": "8r-ORgyNcsy0"
    },
    {
      "cell_type": "markdown",
      "metadata": {
        "id": "vGYLT3-Acsy0"
      },
      "source": [
        "### What is supervised machine learning (ML)?\n",
        "\n",
        "- Training data comprises a set of observations ($X$) and their corresponding targets ($y$).\n",
        "- We wish to find a model function $f$ that relates $X$ to $y$.\n",
        "- We use the model function to predict targets of new examples.\n",
        "\n",
        "<!-- ![](img/sup-learning.png)\n",
        "<img src=\"img/sup-learning.png\" height=\"800\" width=\"800\">  -->\n"
      ],
      "id": "vGYLT3-Acsy0"
    },
    {
      "cell_type": "code",
      "source": [
        "p = 'img/sup-learning.png'\n",
        "display(Image(filename=p, width=800))"
      ],
      "metadata": {
        "id": "TDDq6Z-ngSVY"
      },
      "id": "TDDq6Z-ngSVY",
      "execution_count": null,
      "outputs": []
    },
    {
      "cell_type": "markdown",
      "metadata": {
        "id": "SpswGEfDcsy0"
      },
      "source": [
        "### Example 1: Predict whether a message is spam or not"
      ],
      "id": "SpswGEfDcsy0"
    },
    {
      "cell_type": "markdown",
      "metadata": {
        "id": "TRqDx6b7csy0"
      },
      "source": [
        "Do not worry about the code and syntax for now."
      ],
      "id": "TRqDx6b7csy0"
    },
    {
      "cell_type": "markdown",
      "metadata": {
        "tags": [],
        "id": "ECuFALUKcsy0"
      },
      "source": [
        "#### Input features $X$ and target $y$"
      ],
      "id": "ECuFALUKcsy0"
    },
    {
      "cell_type": "markdown",
      "metadata": {
        "id": "ymCyS-fQcsy0"
      },
      "source": [
        "Download SMS Spam Collection Dataset from [here](https://www.kaggle.com/uciml/sms-spam-collection-dataset)."
      ],
      "id": "ymCyS-fQcsy0"
    },
    {
      "cell_type": "code",
      "execution_count": null,
      "metadata": {
        "execution": {
          "iopub.execute_input": "2023-05-21T00:35:16.815079Z",
          "iopub.status.busy": "2023-05-21T00:35:16.814642Z",
          "iopub.status.idle": "2023-05-21T00:35:17.001129Z",
          "shell.execute_reply": "2023-05-21T00:35:16.999028Z",
          "shell.execute_reply.started": "2023-05-21T00:35:16.815020Z"
        },
        "scrolled": true,
        "tags": [
          "hide-input"
        ],
        "id": "WQ-AmiEIcsy0"
      },
      "outputs": [],
      "source": [
        "sms_df = pd.read_csv(\"data/spam.csv\", encoding=\"latin-1\")\n",
        "sms_df = sms_df.drop(columns = [\"Unnamed: 2\", \"Unnamed: 3\", \"Unnamed: 4\"])\n",
        "sms_df = sms_df.rename(columns={\"v1\": \"target\", \"v2\": \"sms\"})\n",
        "train_df, test_df = train_test_split(sms_df, test_size=0.10, random_state=42)\n",
        "train_df.head().style.set_properties(**{\"text-align\": \"left\"})"
      ],
      "id": "WQ-AmiEIcsy0"
    },
    {
      "cell_type": "markdown",
      "metadata": {
        "id": "JV_heOlNcsy1"
      },
      "source": [
        "#### Training a supervised machine learning model with $X$ and $y$"
      ],
      "id": "JV_heOlNcsy1"
    },
    {
      "cell_type": "code",
      "execution_count": null,
      "metadata": {
        "execution": {
          "iopub.execute_input": "2023-05-21T00:35:17.011684Z",
          "iopub.status.busy": "2023-05-21T00:35:17.010589Z",
          "iopub.status.idle": "2023-05-21T00:35:17.264992Z",
          "shell.execute_reply": "2023-05-21T00:35:17.263222Z",
          "shell.execute_reply.started": "2023-05-21T00:35:17.011620Z"
        },
        "id": "JdIr88Ejcsy1"
      },
      "outputs": [],
      "source": [
        "X_train, y_train = train_df[\"sms\"], train_df[\"target\"]\n",
        "X_test, y_test = test_df[\"sms\"], test_df[\"target\"]\n",
        "\n",
        "clf = Pipeline(\n",
        "    [\n",
        "        (\"vect\", CountVectorizer(max_features=5000)),\n",
        "        (\"clf\", LogisticRegression(max_iter=5000)),\n",
        "    ]\n",
        ")\n",
        "clf.fit(X_train, y_train);"
      ],
      "id": "JdIr88Ejcsy1"
    },
    {
      "cell_type": "markdown",
      "metadata": {
        "id": "dIntsEyUcsy1"
      },
      "source": [
        "#### Predicting on unseen data using the trained model"
      ],
      "id": "dIntsEyUcsy1"
    },
    {
      "cell_type": "code",
      "execution_count": null,
      "metadata": {
        "execution": {
          "iopub.execute_input": "2023-05-21T00:35:17.267340Z",
          "iopub.status.busy": "2023-05-21T00:35:17.266903Z",
          "iopub.status.idle": "2023-05-21T00:35:17.283627Z",
          "shell.execute_reply": "2023-05-21T00:35:17.281813Z",
          "shell.execute_reply.started": "2023-05-21T00:35:17.267309Z"
        },
        "scrolled": true,
        "id": "C6b_DLlYcsy1"
      },
      "outputs": [],
      "source": [
        "pd.DataFrame(X_test[0:4]).style.set_properties(**{\"text-align\": \"left\"})"
      ],
      "id": "C6b_DLlYcsy1"
    },
    {
      "cell_type": "markdown",
      "metadata": {
        "id": "Olv8SjgCcsy1"
      },
      "source": [
        "<br><br>"
      ],
      "id": "Olv8SjgCcsy1"
    },
    {
      "cell_type": "code",
      "execution_count": null,
      "metadata": {
        "execution": {
          "iopub.execute_input": "2023-05-21T00:35:17.293741Z",
          "iopub.status.busy": "2023-05-21T00:35:17.289633Z",
          "iopub.status.idle": "2023-05-21T00:35:17.316466Z",
          "shell.execute_reply": "2023-05-21T00:35:17.313877Z",
          "shell.execute_reply.started": "2023-05-21T00:35:17.293652Z"
        },
        "id": "moR2NU_4csy1"
      },
      "outputs": [],
      "source": [
        "pred_dict = {\n",
        "    \"sms\": X_test[0:4],\n",
        "    \"spam\": y_test[0:4],  # actual spam\n",
        "    \"spam_predictions\": clf.predict(X_test[0:4]),\n",
        "}\n",
        "pred_df = pd.DataFrame(pred_dict)\n",
        "pred_df.style.set_properties(**{\"text-align\": \"left\"})"
      ],
      "id": "moR2NU_4csy1"
    },
    {
      "cell_type": "markdown",
      "metadata": {
        "id": "KA86YE9Hcsy1"
      },
      "source": [
        "**We have accurately predicted labels for the unseen text messages above!**"
      ],
      "id": "KA86YE9Hcsy1"
    },
    {
      "cell_type": "markdown",
      "metadata": {
        "id": "NzhJNzzccsy1"
      },
      "source": [
        "<br><br>"
      ],
      "id": "NzhJNzzccsy1"
    },
    {
      "cell_type": "markdown",
      "metadata": {
        "id": "G5RWVDWqcsy2"
      },
      "source": [
        "### Example 2: Predicting whether a patient has a liver disease or not"
      ],
      "id": "G5RWVDWqcsy2"
    },
    {
      "cell_type": "markdown",
      "metadata": {
        "id": "ogdE6hjRcsy2"
      },
      "source": [
        "##### Input data\n",
        "\n",
        "Suppose we are interested in predicting whether a patient has the disease or not. We are given some tabular data with inputs and outputs of liver patients, as shown below. The data contains a number of input features and a special column called \"Target\" which is the output we are interested in predicting."
      ],
      "id": "ogdE6hjRcsy2"
    },
    {
      "cell_type": "markdown",
      "metadata": {
        "id": "-7kYoJlhcsy2"
      },
      "source": [
        "Download the data from [here](https://www.kaggle.com/uciml/indian-liver-patient-records).\n"
      ],
      "id": "-7kYoJlhcsy2"
    },
    {
      "cell_type": "code",
      "execution_count": null,
      "metadata": {
        "execution": {
          "iopub.execute_input": "2023-05-21T00:35:17.320219Z",
          "iopub.status.busy": "2023-05-21T00:35:17.319575Z",
          "iopub.status.idle": "2023-05-21T00:35:17.369117Z",
          "shell.execute_reply": "2023-05-21T00:35:17.365887Z",
          "shell.execute_reply.started": "2023-05-21T00:35:17.320178Z"
        },
        "tags": [
          "hide-input"
        ],
        "id": "hLNKJGX-csy2"
      },
      "outputs": [],
      "source": [
        "df = pd.read_csv(\"data/indian_liver_patient.csv\")\n",
        "df = df.drop(columns = [\"Gender\"])\n",
        "df[\"Dataset\"] = df[\"Dataset\"].replace(1, \"Disease\")\n",
        "df[\"Dataset\"] = df[\"Dataset\"].replace(2, \"No Disease\")\n",
        "df.rename(columns={\"Dataset\": \"Target\"}, inplace=True)\n",
        "train_df, test_df = train_test_split(df, test_size=4, random_state=42)\n",
        "train_df.head()"
      ],
      "id": "hLNKJGX-csy2"
    },
    {
      "cell_type": "markdown",
      "metadata": {
        "id": "7b4MHfc0csy2"
      },
      "source": [
        "##### Building a supervise machine learning model\n",
        "\n",
        "Let's train a supervised machine learning model with the input and output above."
      ],
      "id": "7b4MHfc0csy2"
    },
    {
      "cell_type": "code",
      "execution_count": null,
      "metadata": {
        "execution": {
          "iopub.execute_input": "2023-05-21T00:35:17.372683Z",
          "iopub.status.busy": "2023-05-21T00:35:17.372059Z",
          "iopub.status.idle": "2023-05-21T00:35:17.551474Z",
          "shell.execute_reply": "2023-05-21T00:35:17.549510Z",
          "shell.execute_reply.started": "2023-05-21T00:35:17.372636Z"
        },
        "id": "sXczg2skcsy2"
      },
      "outputs": [],
      "source": [
        "from lightgbm.sklearn import LGBMClassifier\n",
        "\n",
        "X_train = train_df.drop(columns=[\"Target\"])\n",
        "y_train = train_df[\"Target\"]\n",
        "X_test = test_df.drop(columns=[\"Target\"])\n",
        "y_test = test_df[\"Target\"]\n",
        "model = LGBMClassifier(random_state=123)\n",
        "model.fit(X_train, y_train);"
      ],
      "id": "sXczg2skcsy2"
    },
    {
      "cell_type": "markdown",
      "metadata": {
        "id": "ytQvvaf_csy2"
      },
      "source": [
        "##### Model predictions on unseen data\n",
        "\n",
        "- Given features of new patients below we'll use this model to predict whether these patients have the liver disease or not."
      ],
      "id": "ytQvvaf_csy2"
    },
    {
      "cell_type": "code",
      "execution_count": null,
      "metadata": {
        "execution": {
          "iopub.execute_input": "2023-05-21T00:35:17.554852Z",
          "iopub.status.busy": "2023-05-21T00:35:17.553783Z",
          "iopub.status.idle": "2023-05-21T00:35:17.597948Z",
          "shell.execute_reply": "2023-05-21T00:35:17.595798Z",
          "shell.execute_reply.started": "2023-05-21T00:35:17.554799Z"
        },
        "id": "Dd2k7Q-4csy2"
      },
      "outputs": [],
      "source": [
        "pred_df = pd.DataFrame({\"Predicted_target\": model.predict(X_test).tolist()})\n",
        "\n",
        "df_concat = pd.concat([pred_df, X_test.reset_index(drop=True)], axis=1)\n",
        "df_concat"
      ],
      "id": "Dd2k7Q-4csy2"
    },
    {
      "cell_type": "markdown",
      "metadata": {
        "id": "0w8QT1lmcsy3"
      },
      "source": [
        "<br><br>"
      ],
      "id": "0w8QT1lmcsy3"
    },
    {
      "cell_type": "markdown",
      "metadata": {
        "id": "aWylpklHcsy3"
      },
      "source": [
        "### Example 3: Predicting housing prices\n",
        "\n",
        "Suppose we want to predict housing prices given a number of attributes associated with houses."
      ],
      "id": "aWylpklHcsy3"
    },
    {
      "cell_type": "markdown",
      "metadata": {
        "id": "UmlEYpAjcsy3"
      },
      "source": [
        "Download the data from [here](https://www.kaggle.com/harlfoxem/housesalesprediction)."
      ],
      "id": "UmlEYpAjcsy3"
    },
    {
      "cell_type": "code",
      "execution_count": null,
      "metadata": {
        "execution": {
          "iopub.execute_input": "2023-05-21T00:36:43.191781Z",
          "iopub.status.busy": "2023-05-21T00:36:43.191125Z",
          "iopub.status.idle": "2023-05-21T00:36:43.585916Z",
          "shell.execute_reply": "2023-05-21T00:36:43.583604Z",
          "shell.execute_reply.started": "2023-05-21T00:36:43.191731Z"
        },
        "tags": [
          "hide-input"
        ],
        "id": "24PCL8mDcsy3"
      },
      "outputs": [],
      "source": [
        "df = pd.read_csv(\"data/kc_house_data.csv\")\n",
        "df = df.drop(columns = [\"id\", \"date\"])\n",
        "df.rename(columns={\"price\": \"target\"}, inplace=True)\n",
        "train_df, test_df = train_test_split(df, test_size=0.2, random_state=4)\n",
        "train_df.head()"
      ],
      "id": "24PCL8mDcsy3"
    },
    {
      "cell_type": "code",
      "execution_count": null,
      "metadata": {
        "execution": {
          "iopub.execute_input": "2023-05-21T00:36:43.598535Z",
          "iopub.status.busy": "2023-05-21T00:36:43.597708Z",
          "iopub.status.idle": "2023-05-21T00:36:47.012313Z",
          "shell.execute_reply": "2023-05-21T00:36:47.009515Z",
          "shell.execute_reply.started": "2023-05-21T00:36:43.598480Z"
        },
        "id": "BH0jKnNxcsy_"
      },
      "outputs": [],
      "source": [
        "# Build a regression model\n",
        "import xgboost as xgb\n",
        "from xgboost import XGBRegressor\n",
        "\n",
        "X_train, y_train = train_df.drop(columns= [\"target\"]), train_df[\"target\"]\n",
        "X_test, y_test = test_df.drop(columns= [\"target\"]), train_df[\"target\"]\n",
        "\n",
        "model = XGBRegressor()\n",
        "model.fit(X_train, y_train);"
      ],
      "id": "BH0jKnNxcsy_"
    },
    {
      "cell_type": "code",
      "execution_count": null,
      "metadata": {
        "execution": {
          "iopub.execute_input": "2023-05-21T00:36:47.040417Z",
          "iopub.status.busy": "2023-05-21T00:36:47.036672Z",
          "iopub.status.idle": "2023-05-21T00:36:47.125900Z",
          "shell.execute_reply": "2023-05-21T00:36:47.123237Z",
          "shell.execute_reply.started": "2023-05-21T00:36:47.040340Z"
        },
        "id": "XITPQElVcsy_"
      },
      "outputs": [],
      "source": [
        "# Predict on unseen examples using the built model\n",
        "pred_df = pd.DataFrame(\n",
        "    # {\"Predicted target\": model.predict(X_test[0:4]).tolist(), \"Actual price\": y_test[0:4].tolist()}\n",
        "    {\"Predicted_target\": model.predict(X_test[0:4]).tolist()}\n",
        ")\n",
        "df_concat = pd.concat([pred_df, X_test[0:4].reset_index(drop=True)], axis=1)\n",
        "df_concat"
      ],
      "id": "XITPQElVcsy_"
    },
    {
      "cell_type": "markdown",
      "source": [
        "<br><br>"
      ],
      "metadata": {
        "id": "q2S1LHGiuwmk"
      },
      "id": "q2S1LHGiuwmk"
    },
    {
      "cell_type": "markdown",
      "source": [
        "### Example 4: Predicting the label of a given image\n",
        "\n",
        "Suppose you want to predict the label of a given image using supervised machine learning. We are using a pre-trained model here to predict labels of new unseen images."
      ],
      "metadata": {
        "id": "_mHwc73Eg_54"
      },
      "id": "_mHwc73Eg_54"
    },
    {
      "cell_type": "code",
      "source": [
        "from PIL import Image\n",
        "\n",
        "# Predict labels with associated probabilities for unseen images\n",
        "images = glob.glob(\"data/test_images/*.*\")\n",
        "for image in images:\n",
        "    img = Image.open(image)\n",
        "    img.load()\n",
        "    plt.imshow(img)\n",
        "    plt.show()\n",
        "    df = classify_image(img)\n",
        "    print(df.to_string(index=False))\n",
        "    print(\"--------------------------------------------------------------\")"
      ],
      "metadata": {
        "id": "CJVaDcEffica"
      },
      "id": "CJVaDcEffica",
      "execution_count": null,
      "outputs": []
    },
    {
      "cell_type": "markdown",
      "metadata": {
        "id": "28F-z2-_csy_"
      },
      "source": [
        "| |\n",
        "|-|\n",
        "|To summarize, supervised machine learning can be used on a variety of problems and different kinds of data.|"
      ],
      "id": "28F-z2-_csy_"
    },
    {
      "cell_type": "markdown",
      "metadata": {
        "id": "UQ0w8n8acszA"
      },
      "source": [
        "<br><br>"
      ],
      "id": "UQ0w8n8acszA"
    },
    {
      "cell_type": "markdown",
      "metadata": {
        "id": "e2t7H0OqcszA"
      },
      "source": [
        "### 🤔 Questions\n",
        "\n",
        "- How are we exactly \"learning\" whether a message is spam and ham?\n",
        "- What do you mean by \"learn without being explicitly programmed\"? The code has to be somewhere ...\n",
        "- Are we expected to get correct predictions for all possible messages? How does it predict the label for a message it has not seen before?  \n",
        "- What if the model mis-labels an unseen example? For instance, what if the model incorrectly predicts a non-spam as a spam? What would be the consequences?\n",
        "- How do we measure the success or failure of spam identification?\n",
        "- If you want to use this model in the wild, how do you know how reliable it is?  \n",
        "- Would it be useful to know how confident the model is about the predictions rather than just a yes or a no?\n",
        "\n",
        "It's great to think about these questions right now. By the end of this course you'll know answers to many of these questions!  "
      ],
      "id": "e2t7H0OqcszA"
    },
    {
      "cell_type": "markdown",
      "metadata": {
        "id": "YZSPyI5jcszA"
      },
      "source": [
        "<br><br>"
      ],
      "id": "YZSPyI5jcszA"
    },
    {
      "cell_type": "markdown",
      "metadata": {
        "tags": [],
        "id": "h8oAMKSdcszA"
      },
      "source": [
        "### Jupyter notebooks\n",
        "\n",
        "- This document is a [Jupyter notebook](https://jupyter.org/), with file extension `.ipynb`.\n",
        "- Confusingly, \"Jupyter notebook\" is also the original application that opens `.ipynb` files.\n",
        "- Jupyter notebooks contain a mix of code, code output, markdown-formatted text (including LaTeX equations), and more.\n",
        "  - When you open a Jupyter notebook in one of these apps, the document is \"live\", meaning you can run the code.\n",
        "  - For example:"
      ],
      "id": "h8oAMKSdcszA"
    },
    {
      "cell_type": "code",
      "execution_count": null,
      "metadata": {
        "execution": {
          "iopub.execute_input": "2023-05-21T00:36:47.137735Z",
          "iopub.status.busy": "2023-05-21T00:36:47.135262Z",
          "iopub.status.idle": "2023-05-21T00:36:47.166842Z",
          "shell.execute_reply": "2023-05-21T00:36:47.163914Z",
          "shell.execute_reply.started": "2023-05-21T00:36:47.137673Z"
        },
        "id": "1DracZ8rcszA"
      },
      "outputs": [],
      "source": [
        "1 + 1"
      ],
      "id": "1DracZ8rcszA"
    },
    {
      "cell_type": "code",
      "execution_count": null,
      "metadata": {
        "execution": {
          "iopub.execute_input": "2023-05-21T00:36:47.175654Z",
          "iopub.status.busy": "2023-05-21T00:36:47.173134Z",
          "iopub.status.idle": "2023-05-21T00:36:47.192931Z",
          "shell.execute_reply": "2023-05-21T00:36:47.187676Z",
          "shell.execute_reply.started": "2023-05-21T00:36:47.175583Z"
        },
        "id": "lrJmGTXFcszA"
      },
      "outputs": [],
      "source": [
        "x = [1, 2, 3]\n",
        "x[0] = 9999\n",
        "x"
      ],
      "id": "lrJmGTXFcszA"
    },
    {
      "cell_type": "markdown",
      "metadata": {
        "id": "UiucyevrcszA"
      },
      "source": [
        "<br><br>"
      ],
      "id": "UiucyevrcszA"
    },
    {
      "cell_type": "markdown",
      "metadata": {
        "id": "Ic163OIHcszB"
      },
      "source": [
        "## Summary\n",
        "\n",
        "- Machine learning is a different paradigm for problem solving.    \n",
        "- Very often it reduces the time you spend programming and helps customizing and scaling your products.\n",
        "- In supervised learning we are given a set of observations ($X$) and their corresponding targets ($y$) and we wish to find a model function $f$ that relates $X$ to $y$.\n",
        "- Let's have fun learning this material together!\n"
      ],
      "id": "Ic163OIHcszB"
    },
    {
      "cell_type": "markdown",
      "metadata": {
        "id": "-Tcsse67cszB"
      },
      "source": [
        "## Credits:\n",
        "\n",
        "This set of Jupyter notebooks is derived from [UBC CPSC 330 Applied Machine Learning](https://github.com/UBC-CS/cpsc330) developed by Varada Kolhatkar."
      ],
      "id": "-Tcsse67cszB"
    }
  ],
  "metadata": {
    "kernelspec": {
      "display_name": "Python 3",
      "language": "python",
      "name": "python3"
    },
    "language_info": {
      "codemirror_mode": {
        "name": "ipython",
        "version": 3
      },
      "file_extension": ".py",
      "mimetype": "text/x-python",
      "name": "python",
      "nbconvert_exporter": "python",
      "pygments_lexer": "ipython3",
      "version": "3.7.1"
    },
    "colab": {
      "provenance": []
    }
  },
  "nbformat": 4,
  "nbformat_minor": 5
}