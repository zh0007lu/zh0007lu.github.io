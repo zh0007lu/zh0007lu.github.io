{
  "cells": [
    {
      "cell_type": "code",
      "source": [
        "# Use if you run the notebook on Google colab\n",
        "from google.colab import drive\n",
        "drive.mount('/content/drive/', force_remount=True)"
      ],
      "metadata": {
        "id": "TCAbWi-HtUoe"
      },
      "execution_count": null,
      "outputs": []
    },
    {
      "cell_type": "code",
      "source": [
        "!pip install mglearn"
      ],
      "metadata": {
        "id": "3_n9dOhatVOV"
      },
      "execution_count": null,
      "outputs": []
    },
    {
      "cell_type": "markdown",
      "metadata": {
        "id": "DrNkicsftRvc"
      },
      "source": [
        "# 3: Linear Regression"
      ]
    },
    {
      "cell_type": "markdown",
      "metadata": {
        "id": "sBfFMixgtRvf"
      },
      "source": [
        "## Imports"
      ]
    },
    {
      "cell_type": "code",
      "execution_count": null,
      "metadata": {
        "execution": {
          "iopub.execute_input": "2023-05-25T13:50:13.575123Z",
          "iopub.status.busy": "2023-05-25T13:50:13.574901Z",
          "iopub.status.idle": "2023-05-25T13:50:15.687943Z",
          "shell.execute_reply": "2023-05-25T13:50:15.686627Z",
          "shell.execute_reply.started": "2023-05-25T13:50:13.575103Z"
        },
        "id": "zmoUWE8LtRvf"
      },
      "outputs": [],
      "source": [
        "import os\n",
        "import sys\n",
        "\n",
        "sys.path.append(\"/content/drive/MyDrive/50603/code\")\n",
        "os.chdir('/content/drive/MyDrive/50603')\n",
        "\n",
        "import IPython\n",
        "import ipywidgets as widgets\n",
        "import matplotlib.pyplot as plt\n",
        "import mglearn\n",
        "import numpy as np\n",
        "import pandas as pd\n",
        "from IPython.display import Image, HTML, display\n",
        "from ipywidgets import interact, interactive\n",
        "from plotting_functions import *\n",
        "from sklearn.dummy import DummyClassifier\n",
        "from sklearn.feature_extraction.text import CountVectorizer, TfidfVectorizer\n",
        "from sklearn.impute import SimpleImputer\n",
        "from sklearn.model_selection import cross_val_score, cross_validate, train_test_split\n",
        "from sklearn.neighbors import KNeighborsClassifier, KNeighborsRegressor\n",
        "from sklearn.pipeline import Pipeline, make_pipeline\n",
        "from sklearn.preprocessing import OneHotEncoder, StandardScaler\n",
        "from sklearn.svm import SVC\n",
        "from sklearn.tree import DecisionTreeClassifier\n",
        "from utils import *\n",
        "\n",
        "%matplotlib inline\n",
        "pd.set_option(\"display.max_colwidth\", 200)"
      ]
    },
    {
      "cell_type": "markdown",
      "metadata": {
        "id": "XP6Ljb0itRvg"
      },
      "source": [
        "## Learning outcomes\n",
        "\n",
        "From this lecture, students are expected to be able to:\n",
        "\n",
        "- Explain the general intuition behind linear models;\n",
        "- Explain how `predict` works for linear regression;\n",
        "- Use `scikit-learn`'s `Ridge` model;\n",
        "- Demonstrate how the `alpha` hyperparameter of `Ridge` is related to the fundamental tradeoff;"
      ]
    },
    {
      "cell_type": "markdown",
      "metadata": {
        "id": "M_nxCh6WtRvh"
      },
      "source": [
        "<br><br>"
      ]
    },
    {
      "cell_type": "markdown",
      "metadata": {
        "id": "2mfHvkmptRvh"
      },
      "source": [
        "### Linear regression\n",
        "\n",
        "- A very popular statistical model and has a long history.  \n",
        "- Imagine a hypothetical regression problem of predicting weight of a snake given its length."
      ]
    },
    {
      "cell_type": "code",
      "execution_count": null,
      "metadata": {
        "execution": {
          "iopub.execute_input": "2023-05-25T13:50:15.690594Z",
          "iopub.status.busy": "2023-05-25T13:50:15.689646Z",
          "iopub.status.idle": "2023-05-25T13:50:15.714026Z",
          "shell.execute_reply": "2023-05-25T13:50:15.712366Z",
          "shell.execute_reply.started": "2023-05-25T13:50:15.690567Z"
        },
        "id": "dHTkn7LStRvh"
      },
      "outputs": [],
      "source": [
        "np.random.seed(7)\n",
        "n = 100\n",
        "X_1 = np.linspace(0, 2, n) + np.random.randn(n) * 0.01\n",
        "X = pd.DataFrame(X_1[:, None], columns=[\"length\"])\n",
        "\n",
        "y = abs(np.random.randn(n, 1)) * 3 + X_1[:, None] * 5 + 0.2\n",
        "y = pd.DataFrame(y, columns=[\"weight\"])\n",
        "snakes_df = pd.concat([X, y], axis=1)\n",
        "train_df, test_df = train_test_split(snakes_df, test_size=0.2, random_state=77)\n",
        "\n",
        "X_train = train_df[[\"length\"]]\n",
        "y_train = train_df[\"weight\"]\n",
        "X_test = test_df[[\"length\"]]\n",
        "y_test = test_df[\"weight\"]\n",
        "train_df.head()"
      ]
    },
    {
      "cell_type": "markdown",
      "metadata": {
        "id": "Un805EFotRvi"
      },
      "source": [
        "Let's visualize the hypothetical snake data."
      ]
    },
    {
      "cell_type": "code",
      "execution_count": null,
      "metadata": {
        "execution": {
          "iopub.execute_input": "2023-05-25T13:50:15.716148Z",
          "iopub.status.busy": "2023-05-25T13:50:15.715757Z",
          "iopub.status.idle": "2023-05-25T13:50:15.918656Z",
          "shell.execute_reply": "2023-05-25T13:50:15.917246Z",
          "shell.execute_reply.started": "2023-05-25T13:50:15.716128Z"
        },
        "scrolled": true,
        "id": "CpVbxuG_tRvi"
      },
      "outputs": [],
      "source": [
        "plt.plot(X_train.to_numpy(), y_train, \".\", markersize=10)\n",
        "plt.xlabel(\"length\")\n",
        "plt.ylabel(\"weight (target)\");"
      ]
    },
    {
      "cell_type": "markdown",
      "metadata": {
        "id": "LCUVPF4VtRvj"
      },
      "source": [
        "Let's plot a linear regression model on this dataset."
      ]
    },
    {
      "cell_type": "code",
      "execution_count": null,
      "metadata": {
        "execution": {
          "iopub.execute_input": "2023-05-25T13:50:15.921455Z",
          "iopub.status.busy": "2023-05-25T13:50:15.921024Z",
          "iopub.status.idle": "2023-05-25T13:50:15.928545Z",
          "shell.execute_reply": "2023-05-25T13:50:15.927396Z",
          "shell.execute_reply.started": "2023-05-25T13:50:15.921412Z"
        },
        "id": "tOyT2BxptRvj"
      },
      "outputs": [],
      "source": [
        "grid = np.linspace(X_train.min()[0], X_train.max()[0], 1000)\n",
        "grid = grid.reshape(-1, 1)"
      ]
    },
    {
      "cell_type": "code",
      "execution_count": null,
      "metadata": {
        "execution": {
          "iopub.execute_input": "2023-05-25T13:50:15.930439Z",
          "iopub.status.busy": "2023-05-25T13:50:15.930160Z",
          "iopub.status.idle": "2023-05-25T13:50:16.063192Z",
          "shell.execute_reply": "2023-05-25T13:50:16.061870Z",
          "shell.execute_reply.started": "2023-05-25T13:50:15.930419Z"
        },
        "id": "LYRSIUP7tRvj"
      },
      "outputs": [],
      "source": [
        "from sklearn.linear_model import Ridge\n",
        "\n",
        "r = Ridge()\n",
        "r.fit(X_train.to_numpy(), y_train)\n",
        "plt.plot(X_train.to_numpy(), y_train, \".\", markersize=10)\n",
        "plt.plot(grid, r.predict(grid))\n",
        "plt.grid(True)\n",
        "plt.xlabel(\"length\")\n",
        "plt.ylabel(\"weight (target)\");"
      ]
    },
    {
      "cell_type": "markdown",
      "metadata": {
        "id": "8RQiISYgtRvj"
      },
      "source": [
        "**The orange line is the learned linear model.**"
      ]
    },
    {
      "cell_type": "markdown",
      "metadata": {
        "id": "RAuWft3qtRvk"
      },
      "source": [
        "### Prediction of linear regression\n",
        "\n",
        "- Given a snake length, we can use the model above to predict the target (i.e., the weight of the snake).\n",
        "- The prediction will be the corresponding weight on the orange line."
      ]
    },
    {
      "cell_type": "code",
      "execution_count": null,
      "metadata": {
        "execution": {
          "iopub.execute_input": "2023-05-25T13:50:16.065888Z",
          "iopub.status.busy": "2023-05-25T13:50:16.065356Z",
          "iopub.status.idle": "2023-05-25T13:50:16.073916Z",
          "shell.execute_reply": "2023-05-25T13:50:16.072765Z",
          "shell.execute_reply.started": "2023-05-25T13:50:16.065863Z"
        },
        "id": "kDBdF8IztRvk"
      },
      "outputs": [],
      "source": [
        "snake_length = 0.75\n",
        "r.predict([[snake_length]])"
      ]
    },
    {
      "cell_type": "markdown",
      "metadata": {
        "id": "woBCIhbEtRvk"
      },
      "source": [
        "#### What are we exactly learning?\n",
        "\n",
        "- The model above is a **line**, which can be represented with a **slope** (i.e., coefficient or weight) and an **intercept**.\n",
        "- For the above model, we can access the slope (i.e., coefficient or weight) and the intercept using `coef_` and `intercept_`, respectively."
      ]
    },
    {
      "cell_type": "code",
      "execution_count": null,
      "metadata": {
        "execution": {
          "iopub.execute_input": "2023-05-25T13:50:16.077717Z",
          "iopub.status.busy": "2023-05-25T13:50:16.077024Z",
          "iopub.status.idle": "2023-05-25T13:50:16.086352Z",
          "shell.execute_reply": "2023-05-25T13:50:16.085157Z",
          "shell.execute_reply.started": "2023-05-25T13:50:16.077692Z"
        },
        "id": "eqfuKLcetRvk"
      },
      "outputs": [],
      "source": [
        "r.coef_  # r is our linear regression object"
      ]
    },
    {
      "cell_type": "code",
      "execution_count": null,
      "metadata": {
        "execution": {
          "iopub.execute_input": "2023-05-25T13:50:16.087597Z",
          "iopub.status.busy": "2023-05-25T13:50:16.087336Z",
          "iopub.status.idle": "2023-05-25T13:50:16.097885Z",
          "shell.execute_reply": "2023-05-25T13:50:16.096455Z",
          "shell.execute_reply.started": "2023-05-25T13:50:16.087577Z"
        },
        "id": "M49ArU8RtRvk"
      },
      "outputs": [],
      "source": [
        "r.intercept_  # r is our linear regression object"
      ]
    },
    {
      "cell_type": "markdown",
      "metadata": {
        "id": "3_PjAyw0tRvk"
      },
      "source": [
        "### How are we making predictions?\n",
        "- Given a feature value $x_1$ and learned coefficient $w_1$ and intercept $b$, we can get the prediction $\\hat{y}$ with the following formula:\n",
        "$$\\hat{y} = w_1x_1 + b$$"
      ]
    },
    {
      "cell_type": "code",
      "execution_count": null,
      "metadata": {
        "execution": {
          "iopub.execute_input": "2023-05-25T13:50:16.100939Z",
          "iopub.status.busy": "2023-05-25T13:50:16.100598Z",
          "iopub.status.idle": "2023-05-25T13:50:16.108212Z",
          "shell.execute_reply": "2023-05-25T13:50:16.107019Z",
          "shell.execute_reply.started": "2023-05-25T13:50:16.100916Z"
        },
        "id": "xdEAkPJxtRvl"
      },
      "outputs": [],
      "source": [
        "prediction = snake_length * r.coef_ + r.intercept_\n",
        "prediction"
      ]
    },
    {
      "cell_type": "code",
      "execution_count": null,
      "metadata": {
        "execution": {
          "iopub.execute_input": "2023-05-25T13:50:16.109851Z",
          "iopub.status.busy": "2023-05-25T13:50:16.109530Z",
          "iopub.status.idle": "2023-05-25T13:50:16.117800Z",
          "shell.execute_reply": "2023-05-25T13:50:16.116728Z",
          "shell.execute_reply.started": "2023-05-25T13:50:16.109831Z"
        },
        "id": "Xu534BDTtRvl"
      },
      "outputs": [],
      "source": [
        "r.predict([[snake_length]])"
      ]
    },
    {
      "cell_type": "markdown",
      "metadata": {
        "id": "P3Im1JaCtRvl"
      },
      "source": [
        "Great! Now we exactly know how the model is making the prediction."
      ]
    },
    {
      "cell_type": "markdown",
      "metadata": {
        "id": "GWlUaWU2tRvl"
      },
      "source": [
        "### Generalizing to more features\n",
        "For more features, the model is a higher dimensional hyperplane and the general prediction formula looks as follows:\n",
        "\n",
        "$\\hat{y} =$ <font color=\"red\">$w_1$</font> <font color=\"blue\">$x_1$ </font> $+ \\dots +$ <font color=\"red\">$w_d$</font> <font color=\"blue\">$x_d$</font> + <font  color=\"green\"> $b$</font>\n",
        "\n",
        "where,\n",
        "- <font  color=\"blue\"> ($x_1, \\dots, x_d$) are input features </font>\n",
        "- <font  color=\"red\"> ($w_1, \\dots, w_d$) are coefficients or weights </font> (learned from the data)\n",
        "- <font  color=\"green\"> $b$ is the bias which can be used to offset your hyperplane </font> (learned from the data)"
      ]
    },
    {
      "cell_type": "markdown",
      "metadata": {
        "id": "fdQwiphptRvl"
      },
      "source": [
        "### Example\n",
        "\n",
        "- Suppose these are the coefficients learned by a linear regression model on a hypothetical housing price prediction dataset.\n",
        "\n",
        "| Feature | Learned coefficient |\n",
        "|--------------------|---------------------:|\n",
        "| Bedrooms | 0.20 |\n",
        "| Bathrooms| 0.11 |\n",
        "| Square Footage | 0.002 |\n",
        "| Age | -0.02 |\n",
        "\n",
        "- Now given a new example, the target will be predicted as follows:\n",
        "| Bedrooms | Bathrooms | Square Footage | Age |\n",
        "|--------------------|---------------------|----------------|-----|\n",
        "| 3                  | 2                   | 1875           | 66  |"
      ]
    },
    {
      "cell_type": "markdown",
      "metadata": {
        "id": "J4mA4XhLtRvl"
      },
      "source": [
        "$$\\hat{y} = w_1x_1 + w_2x_2 + w_3x_3 + w_4x_4 + b$$\n",
        "\n",
        "$$\\text{predicted price}=  0.20 \\times 3 + 0.11 \\times 2 + 0.002 \\times 1875 + (-0.02) \\times 66 + b$$"
      ]
    },
    {
      "cell_type": "markdown",
      "metadata": {
        "id": "krTLiav0tRvl"
      },
      "source": [
        "When we call `fit`, a coefficient or weight is learned for each feature which tells us the role of that feature in prediction. These coefficients are learned from the training data.  "
      ]
    },
    {
      "cell_type": "markdown",
      "metadata": {
        "id": "Agc_etrQtRvl"
      },
      "source": [
        "***Note***\n",
        "> In linear models for regression, the model is a line for a single feature, a plane for two features, and a hyperplane for higher dimensions. We are not yet ready to discuss how does linear regression learn these coefficients and intercept."
      ]
    },
    {
      "cell_type": "markdown",
      "metadata": {
        "id": "dRD815eYtRvl"
      },
      "source": [
        "### `Ridge`\n",
        "\n",
        "- `scikit-learn` has a model called `LinearRegression` for linear regression.\n",
        "- But if we use this \"vanilla\" version of linear regression, it may result in large coefficients and unexpected results.\n",
        "- So instead of using `LinearRegression`, we will _always use another linear model called `Ridge`_, which is a linear regression model with a complexity **hyperparameter** `alpha`."
      ]
    },
    {
      "cell_type": "code",
      "execution_count": null,
      "metadata": {
        "execution": {
          "iopub.execute_input": "2023-05-25T13:50:16.119345Z",
          "iopub.status.busy": "2023-05-25T13:50:16.118831Z",
          "iopub.status.idle": "2023-05-25T13:50:16.125196Z",
          "shell.execute_reply": "2023-05-25T13:50:16.123497Z",
          "shell.execute_reply.started": "2023-05-25T13:50:16.119281Z"
        },
        "id": "mNwNG30ntRvn"
      },
      "outputs": [],
      "source": [
        "from sklearn.linear_model import LinearRegression  # DO NOT USE IT IN THIS COURSE\n",
        "from sklearn.linear_model import Ridge  # USE THIS INSTEAD"
      ]
    },
    {
      "cell_type": "markdown",
      "metadata": {
        "id": "FicjlEjotRvn"
      },
      "source": [
        "#### Data"
      ]
    },
    {
      "cell_type": "markdown",
      "metadata": {
        "id": "viu4bT32tRvn"
      },
      "source": [
        "We will use a dataset of residential homes in Ames, Iowa. Using the non-categorical data in this dataset, we attempt to **predict the final price** of each home."
      ]
    },
    {
      "cell_type": "code",
      "execution_count": null,
      "metadata": {
        "execution": {
          "iopub.execute_input": "2023-05-25T13:50:16.127214Z",
          "iopub.status.busy": "2023-05-25T13:50:16.126783Z",
          "iopub.status.idle": "2023-05-25T13:50:16.251840Z",
          "shell.execute_reply": "2023-05-25T13:50:16.250824Z",
          "shell.execute_reply.started": "2023-05-25T13:50:16.127187Z"
        },
        "id": "yj4fRqAQtRvn"
      },
      "outputs": [],
      "source": [
        "# The Ames housing dataset\n",
        "from sklearn.datasets import fetch_openml\n",
        "ames = fetch_openml(name=\"house_prices\", as_frame=True)"
      ]
    },
    {
      "cell_type": "markdown",
      "metadata": {
        "id": "uTEVO2s8tRvo"
      },
      "source": [
        "To simplify our demonstration here, we will keep most of *numerical columns* and drop the rest of (categorical) columns. This simplifies column preprocessing and our upcoming analysis in this exercise."
      ]
    },
    {
      "cell_type": "code",
      "execution_count": null,
      "metadata": {
        "execution": {
          "iopub.execute_input": "2023-05-25T13:50:16.254180Z",
          "iopub.status.busy": "2023-05-25T13:50:16.252856Z",
          "iopub.status.idle": "2023-05-25T13:50:16.267861Z",
          "shell.execute_reply": "2023-05-25T13:50:16.266626Z",
          "shell.execute_reply.started": "2023-05-25T13:50:16.254149Z"
        },
        "id": "qDGP8UC7tRvo"
      },
      "outputs": [],
      "source": [
        "ames_df = pd.DataFrame(ames.data, columns=ames.feature_names).set_index('Id')\n",
        "ames_df = ames_df.select_dtypes('number') # drop non-numerical cols, see note above\n",
        "ames_df = ames_df.drop(columns=['MSSubClass', 'MoSold', 'YrSold']) # drop more cols, see note above\n",
        "\n",
        "X_train, X_test, y_train, y_test = train_test_split(\n",
        "    ames_df, ames.target, test_size=0.2\n",
        ")\n",
        "\n",
        "[d.shape for d in [X_train, X_test, y_train, y_test]] # see the train and test sizes"
      ]
    },
    {
      "cell_type": "markdown",
      "metadata": {
        "id": "f3u_YHLytRvo"
      },
      "source": [
        "An extended description of the Ames housing dataset is accessible through `ames.url` and `ames.DESCR`:"
      ]
    },
    {
      "cell_type": "code",
      "execution_count": null,
      "metadata": {
        "execution": {
          "iopub.execute_input": "2023-05-25T13:50:16.270281Z",
          "iopub.status.busy": "2023-05-25T13:50:16.269106Z",
          "iopub.status.idle": "2023-05-25T13:50:16.275987Z",
          "shell.execute_reply": "2023-05-25T13:50:16.274652Z",
          "shell.execute_reply.started": "2023-05-25T13:50:16.270257Z"
        },
        "tags": [],
        "id": "jqBuc1LctRvo"
      },
      "outputs": [],
      "source": [
        "print(\"Ames housing dataset link:\", ames.url)\n",
        "print(\"Ames housing dataset description:\\n\\n\", ames.DESCR[:480])  # print only the introduction\n",
        "# print(\"Ames housing dataset description:\\n\\n\", ames.DESCR)  # print the full description"
      ]
    },
    {
      "cell_type": "markdown",
      "metadata": {
        "id": "cdOi2Qw3tRvp"
      },
      "source": [
        "#### `Ridge` on the Ames housing dataset"
      ]
    },
    {
      "cell_type": "code",
      "execution_count": null,
      "metadata": {
        "execution": {
          "iopub.execute_input": "2023-05-25T13:50:16.278675Z",
          "iopub.status.busy": "2023-05-25T13:50:16.277504Z",
          "iopub.status.idle": "2023-05-25T13:50:16.454991Z",
          "shell.execute_reply": "2023-05-25T13:50:16.453765Z",
          "shell.execute_reply.started": "2023-05-25T13:50:16.278638Z"
        },
        "tags": [],
        "id": "fX2n-ZnmtRvp"
      },
      "outputs": [],
      "source": [
        "preprocess = make_pipeline(SimpleImputer(), StandardScaler())\n",
        "pipe = make_pipeline(preprocess, Ridge())\n",
        "scores = cross_validate(pipe, X_train, y_train, return_train_score=True)\n",
        "print(pd.DataFrame(scores).mean().rename('mean').to_frame().T)\n",
        "pd.DataFrame(scores)"
      ]
    },
    {
      "cell_type": "markdown",
      "metadata": {
        "id": "BxQ40sMItRvp"
      },
      "source": [
        "#### Hyperparameter `alpha` of `Ridge`"
      ]
    },
    {
      "cell_type": "markdown",
      "metadata": {
        "id": "81N5vMyHtRvu"
      },
      "source": [
        "- Ridge has hyperparameters just like the rest of the models we learned.\n",
        "- The alpha hyperparameter is what makes `Ridge` different from vanilla `LinearRegression`.\n",
        "- Similar to the other hyperparameters that we saw, `alpha` controls the fundamental tradeoff."
      ]
    },
    {
      "cell_type": "markdown",
      "metadata": {
        "id": "dfJJ6IYRtRvu"
      },
      "source": [
        "***Note***\n",
        "> If we set `alpha=0` that is the same as using LinearRegression."
      ]
    },
    {
      "cell_type": "markdown",
      "metadata": {
        "id": "-R9Xw3aqtRvu"
      },
      "source": [
        "Let's examine the effect of `alpha` on the fundamental tradeoff."
      ]
    },
    {
      "cell_type": "code",
      "execution_count": null,
      "metadata": {
        "execution": {
          "iopub.execute_input": "2023-05-25T13:50:16.460654Z",
          "iopub.status.busy": "2023-05-25T13:50:16.458940Z",
          "iopub.status.idle": "2023-05-25T13:50:17.506420Z",
          "shell.execute_reply": "2023-05-25T13:50:17.505151Z",
          "shell.execute_reply.started": "2023-05-25T13:50:16.460593Z"
        },
        "id": "mFNdwnwbtRvu"
      },
      "outputs": [],
      "source": [
        "scores_dict = {\n",
        "    \"alpha\": 10.0 ** np.arange(-2, 6, 1),\n",
        "    \"mean_train_scores\": list(),\n",
        "    \"mean_cv_scores\": list(),\n",
        "}\n",
        "for alpha in scores_dict[\"alpha\"]:\n",
        "    pipe_ridge = make_pipeline(preprocess, Ridge(alpha=alpha))\n",
        "    scores = cross_validate(pipe_ridge, X_train, y_train, return_train_score=True)\n",
        "    scores_dict[\"mean_train_scores\"].append(1-scores[\"train_score\"].mean())\n",
        "    scores_dict[\"mean_cv_scores\"].append(1-scores[\"test_score\"].mean())\n",
        "\n",
        "results_df = pd.DataFrame(scores_dict)"
      ]
    },
    {
      "cell_type": "code",
      "execution_count": null,
      "metadata": {
        "execution": {
          "iopub.execute_input": "2023-05-25T13:50:17.509167Z",
          "iopub.status.busy": "2023-05-25T13:50:17.508274Z",
          "iopub.status.idle": "2023-05-25T13:50:17.538111Z",
          "shell.execute_reply": "2023-05-25T13:50:17.531998Z",
          "shell.execute_reply.started": "2023-05-25T13:50:17.509117Z"
        },
        "id": "4vumF2tptRvu"
      },
      "outputs": [],
      "source": [
        "results_df"
      ]
    },
    {
      "cell_type": "code",
      "execution_count": null,
      "metadata": {
        "execution": {
          "iopub.execute_input": "2023-05-25T13:50:17.540906Z",
          "iopub.status.busy": "2023-05-25T13:50:17.540375Z",
          "iopub.status.idle": "2023-05-25T13:50:17.813922Z",
          "shell.execute_reply": "2023-05-25T13:50:17.812569Z",
          "shell.execute_reply.started": "2023-05-25T13:50:17.540878Z"
        },
        "scrolled": false,
        "id": "1rNEkF-atRvu"
      },
      "outputs": [],
      "source": [
        "# Plot only the top part of the table for better viewing\n",
        "ax = results_df.head(6).set_index('alpha').plot()\n",
        "ax.invert_xaxis()"
      ]
    },
    {
      "cell_type": "markdown",
      "metadata": {
        "id": "nt4W4xxptRvv"
      },
      "source": [
        "Thus, `alpha = 100` is the optimum value here. In general,\n",
        "- larger `alpha` $\\rightarrow$ likely to underfit\n",
        "- smaller `alpha` $\\rightarrow$ likely to overfit"
      ]
    },
    {
      "cell_type": "markdown",
      "metadata": {
        "id": "6gEewJ9utRvv"
      },
      "source": [
        "#### Coefficients and intercept\n",
        "\n",
        "The model learns\n",
        "- coefficients associated with each feature\n",
        "- the intercept or bias"
      ]
    },
    {
      "cell_type": "markdown",
      "metadata": {
        "id": "ZZfF0udMtRvv"
      },
      "source": [
        "Let's examine the coefficients learned by the model."
      ]
    },
    {
      "cell_type": "code",
      "execution_count": null,
      "metadata": {
        "execution": {
          "iopub.execute_input": "2023-05-25T13:50:17.815923Z",
          "iopub.status.busy": "2023-05-25T13:50:17.815360Z",
          "iopub.status.idle": "2023-05-25T13:50:17.836374Z",
          "shell.execute_reply": "2023-05-25T13:50:17.834858Z",
          "shell.execute_reply.started": "2023-05-25T13:50:17.815898Z"
        },
        "tags": [],
        "id": "9V8gXL7ytRvv"
      },
      "outputs": [],
      "source": [
        "pipe_ridge = make_pipeline(preprocess, Ridge(alpha=1.0))\n",
        "pipe_ridge.fit(X_train, y_train)\n",
        "coeffs = pipe_ridge.named_steps[\"ridge\"].coef_"
      ]
    },
    {
      "cell_type": "code",
      "execution_count": null,
      "metadata": {
        "execution": {
          "iopub.execute_input": "2023-05-25T13:50:17.839048Z",
          "iopub.status.busy": "2023-05-25T13:50:17.837992Z",
          "iopub.status.idle": "2023-05-25T13:50:17.892030Z",
          "shell.execute_reply": "2023-05-25T13:50:17.890414Z",
          "shell.execute_reply.started": "2023-05-25T13:50:17.839005Z"
        },
        "tags": [],
        "id": "tiM4qB5KtRvv"
      },
      "outputs": [],
      "source": [
        "pd.DataFrame(data=coeffs, index=ames_df.columns, columns=[\"Coefficients\"])"
      ]
    },
    {
      "cell_type": "markdown",
      "metadata": {
        "id": "3uER1G5LtRvv"
      },
      "source": [
        "***Important***\n",
        "> Take these coefficients with a grain of salt. They might not always match your intuitions."
      ]
    },
    {
      "cell_type": "markdown",
      "metadata": {
        "id": "Eb74h6yMtRvv"
      },
      "source": [
        "- The model also learns an intercept (bias).\n",
        "- For each prediction, we are adding this amount irrespective of the feature values.  "
      ]
    },
    {
      "cell_type": "code",
      "execution_count": null,
      "metadata": {
        "execution": {
          "iopub.execute_input": "2023-05-25T13:50:17.910983Z",
          "iopub.status.busy": "2023-05-25T13:50:17.899882Z",
          "iopub.status.idle": "2023-05-25T13:50:17.939316Z",
          "shell.execute_reply": "2023-05-25T13:50:17.933499Z",
          "shell.execute_reply.started": "2023-05-25T13:50:17.910897Z"
        },
        "tags": [],
        "id": "m8acytgJtRvw"
      },
      "outputs": [],
      "source": [
        "pipe_ridge.named_steps[\"ridge\"].intercept_"
      ]
    },
    {
      "cell_type": "markdown",
      "metadata": {
        "id": "CJXksH_CtRvw"
      },
      "source": [
        "Can we use this information to interpret model predictions?"
      ]
    },
    {
      "cell_type": "markdown",
      "metadata": {
        "id": "oCfQqwOrtRvw"
      },
      "source": [
        "## Interpretation of coefficients"
      ]
    },
    {
      "cell_type": "markdown",
      "metadata": {
        "id": "eV2F1964tRvw"
      },
      "source": [
        "- One of the main advantages of linear models is that they are relatively **easy to interpret**.\n",
        "- We have **one coefficient per feature** which kind of describes the **role of the feature** in the prediction according to the model."
      ]
    },
    {
      "cell_type": "markdown",
      "metadata": {
        "id": "7oV-9J8ctRvw"
      },
      "source": [
        "There are two pieces of information in the coefficients based on\n",
        "\n",
        "- Sign\n",
        "- Magnitude"
      ]
    },
    {
      "cell_type": "markdown",
      "metadata": {
        "id": "Ya-mfYCctRvw"
      },
      "source": [
        "### Sign of the coefficients\n",
        "\n",
        "In the example below, for instance:\n",
        "- `OverallQual` (Rates the overall material and finish of the house) has a **positive coefficient**\n",
        "    - the prediction will be **proportional** to the feature value; as `OverallQual` gets bigger, the median house value gets bigger\n",
        "- `LowQualFinSF`: (Low quality finished square feet, all floors) has a **negative coefficient**\n",
        "    - the prediction will be **inversely proportional** to the feature value; as `LowQualFinSF` gets bigger, the median house value gets smaller"
      ]
    },
    {
      "cell_type": "code",
      "execution_count": null,
      "metadata": {
        "execution": {
          "iopub.execute_input": "2023-05-25T13:50:17.971284Z",
          "iopub.status.busy": "2023-05-25T13:50:17.965005Z",
          "iopub.status.idle": "2023-05-25T13:50:17.980928Z",
          "shell.execute_reply": "2023-05-25T13:50:17.979932Z",
          "shell.execute_reply.started": "2023-05-25T13:50:17.971228Z"
        },
        "id": "L88cATj8tRvw"
      },
      "outputs": [],
      "source": [
        "pd.DataFrame(\n",
        "    data=coeffs, index=ames_df.columns, columns=[\"Coefficients\"]\n",
        ").loc[['OverallQual', 'LowQualFinSF']]"
      ]
    },
    {
      "cell_type": "markdown",
      "metadata": {
        "id": "J9G90gfLtRvw"
      },
      "source": [
        "#### Magnitude of the coefficients\n",
        "\n",
        "- Bigger magnitude $\\rightarrow$ bigger impact on the prediction\n",
        "- In the example below, both `OverallQual` and `Fireplaces` have a positive impact on the prediction but `OverallQual` would have a bigger positive impact because it's feature value is going to be multiplied by a number with a bigger magnitude.\n",
        "- Similarly both `LowQualFinSF` and `BsmtUnfSF` have a negative impact on the prediction but `LowQualFinSF` would have a bigger negative impact because it's going to be multiplied by a number with a bigger magnitude."
      ]
    },
    {
      "cell_type": "code",
      "execution_count": null,
      "metadata": {
        "execution": {
          "iopub.execute_input": "2023-05-25T13:50:17.982728Z",
          "iopub.status.busy": "2023-05-25T13:50:17.982305Z",
          "iopub.status.idle": "2023-05-25T13:50:17.994523Z",
          "shell.execute_reply": "2023-05-25T13:50:17.993041Z",
          "shell.execute_reply.started": "2023-05-25T13:50:17.982702Z"
        },
        "id": "jPWXeqDqtRvx"
      },
      "outputs": [],
      "source": [
        "data = {\n",
        "    \"coefficient\": pipe_ridge.named_steps[\"ridge\"].coef_.tolist(),\n",
        "    \"magnitude\": np.absolute(pipe_ridge.named_steps[\"ridge\"].coef_.tolist()),\n",
        "}\n",
        "coef_df = pd.DataFrame(data, index=ames_df.columns).sort_values(\n",
        "    \"magnitude\", ascending=False\n",
        ")\n",
        "coef_df.loc[['OverallQual', 'Fireplaces', 'LowQualFinSF', 'BsmtUnfSF']]"
      ]
    },
    {
      "cell_type": "markdown",
      "metadata": {
        "id": "bDkuVZhstRvx"
      },
      "source": [
        "### Importance of scaling\n",
        "- When you are interpreting the model coefficients, scaling is crucial.\n",
        "- If you do not scale the data, features with smaller magnitude are going to get coefficients with bigger magnitude whereas features with bigger scale are going to get coefficients with smaller magnitude.\n",
        "- That said, when you scale the data, feature values become hard to interpret for humans!"
      ]
    },
    {
      "cell_type": "markdown",
      "metadata": {
        "id": "b_a0fj9xtRvx"
      },
      "source": [
        "***Important***\n",
        "> Take these coefficients with a grain of salt. They might not always match your intuitions. Also, they do not tell us about how the world works. They only tell us about how the prediction of your model works."
      ]
    },
    {
      "cell_type": "markdown",
      "metadata": {
        "id": "6GB0u5yWtRvx"
      },
      "source": [
        "<br><br>"
      ]
    }
  ],
  "metadata": {
    "celltoolbar": "Slideshow",
    "kernelspec": {
      "display_name": "Python 3",
      "language": "python",
      "name": "python3"
    },
    "language_info": {
      "codemirror_mode": {
        "name": "ipython",
        "version": 3
      },
      "file_extension": ".py",
      "mimetype": "text/x-python",
      "name": "python",
      "nbconvert_exporter": "python",
      "pygments_lexer": "ipython3",
      "version": "3.7.1"
    },
    "colab": {
      "provenance": []
    }
  },
  "nbformat": 4,
  "nbformat_minor": 0
}